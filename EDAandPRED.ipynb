{
 "cells": [
  {
   "attachments": {},
   "cell_type": "markdown",
   "metadata": {},
   "source": [
    "- ETL - EDA "
   ]
  },
  {
   "attachments": {},
   "cell_type": "markdown",
   "metadata": {},
   "source": [
    "Librerías Necesarias"
   ]
  },
  {
   "cell_type": "code",
   "execution_count": 3,
   "metadata": {},
   "outputs": [],
   "source": [
    "import pandas as pd\n",
    "import numpy as np\n",
    "import matplotlib.pyplot as plt"
   ]
  },
  {
   "attachments": {},
   "cell_type": "markdown",
   "metadata": {},
   "source": [
    "Los archivos se encuentran en este link: https://drive.google.com/drive/folders/1nJ9ZMj6E6zh6McC9NwCA6KopfUIOG_1O \n",
    "Para su ejecución debe descargarlos y pegarlos en una carpeta llamada ' Datasets'"
   ]
  },
  {
   "attachments": {},
   "cell_type": "markdown",
   "metadata": {},
   "source": [
    "Leemos los archivos provistos: "
   ]
  },
  {
   "cell_type": "code",
   "execution_count": 4,
   "metadata": {},
   "outputs": [],
   "source": [
    "pathtrain = 'Datasets/train.parquet'\n",
    "pathtest = 'Datasets/test.parquet'"
   ]
  },
  {
   "cell_type": "code",
   "execution_count": 5,
   "metadata": {},
   "outputs": [],
   "source": [
    "dftrain = pd.read_parquet(pathtrain)\n",
    "dftest = pd.read_parquet(pathtest)"
   ]
  },
  {
   "cell_type": "code",
   "execution_count": 6,
   "metadata": {},
   "outputs": [
    {
     "data": {
      "text/html": [
       "<div>\n",
       "<style scoped>\n",
       "    .dataframe tbody tr th:only-of-type {\n",
       "        vertical-align: middle;\n",
       "    }\n",
       "\n",
       "    .dataframe tbody tr th {\n",
       "        vertical-align: top;\n",
       "    }\n",
       "\n",
       "    .dataframe thead th {\n",
       "        text-align: right;\n",
       "    }\n",
       "</style>\n",
       "<table border=\"1\" class=\"dataframe\">\n",
       "  <thead>\n",
       "    <tr style=\"text-align: right;\">\n",
       "      <th></th>\n",
       "      <th>id</th>\n",
       "      <th>url</th>\n",
       "      <th>region</th>\n",
       "      <th>region_url</th>\n",
       "      <th>price</th>\n",
       "      <th>type</th>\n",
       "      <th>sqfeet</th>\n",
       "      <th>beds</th>\n",
       "      <th>baths</th>\n",
       "      <th>cats_allowed</th>\n",
       "      <th>...</th>\n",
       "      <th>wheelchair_access</th>\n",
       "      <th>electric_vehicle_charge</th>\n",
       "      <th>comes_furnished</th>\n",
       "      <th>laundry_options</th>\n",
       "      <th>parking_options</th>\n",
       "      <th>image_url</th>\n",
       "      <th>description</th>\n",
       "      <th>lat</th>\n",
       "      <th>long</th>\n",
       "      <th>state</th>\n",
       "    </tr>\n",
       "  </thead>\n",
       "  <tbody>\n",
       "    <tr>\n",
       "      <th>0</th>\n",
       "      <td>7048013474</td>\n",
       "      <td>https://boise.craigslist.org/apa/d/very-nice-b...</td>\n",
       "      <td>boise</td>\n",
       "      <td>https://boise.craigslist.org</td>\n",
       "      <td>1350</td>\n",
       "      <td>house</td>\n",
       "      <td>1200</td>\n",
       "      <td>2</td>\n",
       "      <td>2.0</td>\n",
       "      <td>1</td>\n",
       "      <td>...</td>\n",
       "      <td>0</td>\n",
       "      <td>0</td>\n",
       "      <td>0</td>\n",
       "      <td>w/d in unit</td>\n",
       "      <td>detached garage</td>\n",
       "      <td>https://images.craigslist.org/00B0B_cPiJMEheZe...</td>\n",
       "      <td>Super cute row house in the Boise bench area. ...</td>\n",
       "      <td>43.5851</td>\n",
       "      <td>-116.2250</td>\n",
       "      <td>id</td>\n",
       "    </tr>\n",
       "    <tr>\n",
       "      <th>1</th>\n",
       "      <td>7043931179</td>\n",
       "      <td>https://cosprings.craigslist.org/apa/d/colorad...</td>\n",
       "      <td>colorado springs</td>\n",
       "      <td>https://cosprings.craigslist.org</td>\n",
       "      <td>1115</td>\n",
       "      <td>apartment</td>\n",
       "      <td>694</td>\n",
       "      <td>1</td>\n",
       "      <td>1.0</td>\n",
       "      <td>1</td>\n",
       "      <td>...</td>\n",
       "      <td>0</td>\n",
       "      <td>0</td>\n",
       "      <td>0</td>\n",
       "      <td>w/d in unit</td>\n",
       "      <td>carport</td>\n",
       "      <td>https://images.craigslist.org/00R0R_5XAoSKvfrz...</td>\n",
       "      <td>Windtree Apartment Homes currently has a spaci...</td>\n",
       "      <td>38.9137</td>\n",
       "      <td>-104.7800</td>\n",
       "      <td>co</td>\n",
       "    </tr>\n",
       "    <tr>\n",
       "      <th>2</th>\n",
       "      <td>7048254516</td>\n",
       "      <td>https://norfolk.craigslist.org/apa/d/virginia-...</td>\n",
       "      <td>norfolk / hampton roads</td>\n",
       "      <td>https://norfolk.craigslist.org</td>\n",
       "      <td>1129</td>\n",
       "      <td>apartment</td>\n",
       "      <td>900</td>\n",
       "      <td>2</td>\n",
       "      <td>2.0</td>\n",
       "      <td>0</td>\n",
       "      <td>...</td>\n",
       "      <td>0</td>\n",
       "      <td>0</td>\n",
       "      <td>0</td>\n",
       "      <td>w/d hookups</td>\n",
       "      <td>off-street parking</td>\n",
       "      <td>https://images.craigslist.org/00f0f_3ZbTFrsHpZ...</td>\n",
       "      <td>Call Today!  show contact info   Indian Lakes ...</td>\n",
       "      <td>36.7922</td>\n",
       "      <td>-76.1643</td>\n",
       "      <td>va</td>\n",
       "    </tr>\n",
       "    <tr>\n",
       "      <th>3</th>\n",
       "      <td>7041032577</td>\n",
       "      <td>https://phoenix.craigslist.org/nph/apa/d/phoen...</td>\n",
       "      <td>phoenix</td>\n",
       "      <td>https://phoenix.craigslist.org</td>\n",
       "      <td>1580</td>\n",
       "      <td>house</td>\n",
       "      <td>1469</td>\n",
       "      <td>3</td>\n",
       "      <td>2.0</td>\n",
       "      <td>1</td>\n",
       "      <td>...</td>\n",
       "      <td>0</td>\n",
       "      <td>0</td>\n",
       "      <td>0</td>\n",
       "      <td>w/d in unit</td>\n",
       "      <td>None</td>\n",
       "      <td>https://images.craigslist.org/00f0f_aXV5Dkd5qk...</td>\n",
       "      <td>Cody Anderson Two Brothers Realty License #: S...</td>\n",
       "      <td>33.5623</td>\n",
       "      <td>-112.0560</td>\n",
       "      <td>az</td>\n",
       "    </tr>\n",
       "    <tr>\n",
       "      <th>4</th>\n",
       "      <td>7048588701</td>\n",
       "      <td>https://nashville.craigslist.org/apa/d/antioch...</td>\n",
       "      <td>nashville</td>\n",
       "      <td>https://nashville.craigslist.org</td>\n",
       "      <td>995</td>\n",
       "      <td>apartment</td>\n",
       "      <td>700</td>\n",
       "      <td>1</td>\n",
       "      <td>1.0</td>\n",
       "      <td>1</td>\n",
       "      <td>...</td>\n",
       "      <td>0</td>\n",
       "      <td>0</td>\n",
       "      <td>0</td>\n",
       "      <td>w/d in unit</td>\n",
       "      <td>carport</td>\n",
       "      <td>https://images.craigslist.org/00606_gYOGKClOHv...</td>\n",
       "      <td>To schedule a tour We now book our tour appoin...</td>\n",
       "      <td>36.0595</td>\n",
       "      <td>-86.6592</td>\n",
       "      <td>tn</td>\n",
       "    </tr>\n",
       "    <tr>\n",
       "      <th>...</th>\n",
       "      <td>...</td>\n",
       "      <td>...</td>\n",
       "      <td>...</td>\n",
       "      <td>...</td>\n",
       "      <td>...</td>\n",
       "      <td>...</td>\n",
       "      <td>...</td>\n",
       "      <td>...</td>\n",
       "      <td>...</td>\n",
       "      <td>...</td>\n",
       "      <td>...</td>\n",
       "      <td>...</td>\n",
       "      <td>...</td>\n",
       "      <td>...</td>\n",
       "      <td>...</td>\n",
       "      <td>...</td>\n",
       "      <td>...</td>\n",
       "      <td>...</td>\n",
       "      <td>...</td>\n",
       "      <td>...</td>\n",
       "      <td>...</td>\n",
       "    </tr>\n",
       "    <tr>\n",
       "      <th>346474</th>\n",
       "      <td>7050982281</td>\n",
       "      <td>https://evansville.craigslist.org/apa/d/evansv...</td>\n",
       "      <td>evansville</td>\n",
       "      <td>https://evansville.craigslist.org</td>\n",
       "      <td>672</td>\n",
       "      <td>apartment</td>\n",
       "      <td>660</td>\n",
       "      <td>1</td>\n",
       "      <td>1.0</td>\n",
       "      <td>1</td>\n",
       "      <td>...</td>\n",
       "      <td>0</td>\n",
       "      <td>0</td>\n",
       "      <td>0</td>\n",
       "      <td>laundry on site</td>\n",
       "      <td>None</td>\n",
       "      <td>https://images.craigslist.org/00x0x_9oaHKZ8Ilp...</td>\n",
       "      <td>The pool, the office, the 24-hour on-site laun...</td>\n",
       "      <td>37.9591</td>\n",
       "      <td>-87.5293</td>\n",
       "      <td>in</td>\n",
       "    </tr>\n",
       "    <tr>\n",
       "      <th>346475</th>\n",
       "      <td>7049418251</td>\n",
       "      <td>https://sandiego.craigslist.org/ssd/apa/d/chul...</td>\n",
       "      <td>san diego</td>\n",
       "      <td>https://sandiego.craigslist.org</td>\n",
       "      <td>2122</td>\n",
       "      <td>apartment</td>\n",
       "      <td>1099</td>\n",
       "      <td>2</td>\n",
       "      <td>2.0</td>\n",
       "      <td>1</td>\n",
       "      <td>...</td>\n",
       "      <td>0</td>\n",
       "      <td>0</td>\n",
       "      <td>0</td>\n",
       "      <td>w/d in unit</td>\n",
       "      <td>off-street parking</td>\n",
       "      <td>https://images.craigslist.org/00O0O_6QsU4p5WMh...</td>\n",
       "      <td>Seize your chance to live in our beautiful apa...</td>\n",
       "      <td>32.6279</td>\n",
       "      <td>-117.0370</td>\n",
       "      <td>ca</td>\n",
       "    </tr>\n",
       "    <tr>\n",
       "      <th>346476</th>\n",
       "      <td>7048268235</td>\n",
       "      <td>https://columbia.craigslist.org/apa/d/columbia...</td>\n",
       "      <td>columbia</td>\n",
       "      <td>https://columbia.craigslist.org</td>\n",
       "      <td>1014</td>\n",
       "      <td>apartment</td>\n",
       "      <td>1104</td>\n",
       "      <td>2</td>\n",
       "      <td>2.0</td>\n",
       "      <td>1</td>\n",
       "      <td>...</td>\n",
       "      <td>0</td>\n",
       "      <td>0</td>\n",
       "      <td>0</td>\n",
       "      <td>w/d hookups</td>\n",
       "      <td>off-street parking</td>\n",
       "      <td>https://images.craigslist.org/00000_dpNWqzYhGK...</td>\n",
       "      <td>Tucked into the rolling landscape of Southeast...</td>\n",
       "      <td>33.9659</td>\n",
       "      <td>-80.9355</td>\n",
       "      <td>sc</td>\n",
       "    </tr>\n",
       "    <tr>\n",
       "      <th>346477</th>\n",
       "      <td>7026721229</td>\n",
       "      <td>https://nd.craigslist.org/apa/d/minot-open-con...</td>\n",
       "      <td>north dakota</td>\n",
       "      <td>https://nd.craigslist.org</td>\n",
       "      <td>935</td>\n",
       "      <td>apartment</td>\n",
       "      <td>1050</td>\n",
       "      <td>2</td>\n",
       "      <td>2.0</td>\n",
       "      <td>0</td>\n",
       "      <td>...</td>\n",
       "      <td>0</td>\n",
       "      <td>0</td>\n",
       "      <td>0</td>\n",
       "      <td>w/d in unit</td>\n",
       "      <td>detached garage</td>\n",
       "      <td>https://images.craigslist.org/00Z0Z_65g6Cty1RX...</td>\n",
       "      <td>Enjoy living at Southwood Apartments! Located ...</td>\n",
       "      <td>48.1995</td>\n",
       "      <td>-101.2800</td>\n",
       "      <td>nd</td>\n",
       "    </tr>\n",
       "    <tr>\n",
       "      <th>346478</th>\n",
       "      <td>7049657819</td>\n",
       "      <td>https://buffalo.craigslist.org/apa/d/buffalo-a...</td>\n",
       "      <td>buffalo</td>\n",
       "      <td>https://buffalo.craigslist.org</td>\n",
       "      <td>1300</td>\n",
       "      <td>apartment</td>\n",
       "      <td>1350</td>\n",
       "      <td>2</td>\n",
       "      <td>2.0</td>\n",
       "      <td>1</td>\n",
       "      <td>...</td>\n",
       "      <td>0</td>\n",
       "      <td>0</td>\n",
       "      <td>0</td>\n",
       "      <td>w/d in unit</td>\n",
       "      <td>off-street parking</td>\n",
       "      <td>https://images.craigslist.org/00w0w_7irvBxq409...</td>\n",
       "      <td>Description   Huge spacious 2 bedroom.  Beauti...</td>\n",
       "      <td>42.8997</td>\n",
       "      <td>-78.8803</td>\n",
       "      <td>ny</td>\n",
       "    </tr>\n",
       "  </tbody>\n",
       "</table>\n",
       "<p>346479 rows × 22 columns</p>\n",
       "</div>"
      ],
      "text/plain": [
       "                id                                                url  \\\n",
       "0       7048013474  https://boise.craigslist.org/apa/d/very-nice-b...   \n",
       "1       7043931179  https://cosprings.craigslist.org/apa/d/colorad...   \n",
       "2       7048254516  https://norfolk.craigslist.org/apa/d/virginia-...   \n",
       "3       7041032577  https://phoenix.craigslist.org/nph/apa/d/phoen...   \n",
       "4       7048588701  https://nashville.craigslist.org/apa/d/antioch...   \n",
       "...            ...                                                ...   \n",
       "346474  7050982281  https://evansville.craigslist.org/apa/d/evansv...   \n",
       "346475  7049418251  https://sandiego.craigslist.org/ssd/apa/d/chul...   \n",
       "346476  7048268235  https://columbia.craigslist.org/apa/d/columbia...   \n",
       "346477  7026721229  https://nd.craigslist.org/apa/d/minot-open-con...   \n",
       "346478  7049657819  https://buffalo.craigslist.org/apa/d/buffalo-a...   \n",
       "\n",
       "                         region                         region_url  price  \\\n",
       "0                         boise       https://boise.craigslist.org   1350   \n",
       "1              colorado springs   https://cosprings.craigslist.org   1115   \n",
       "2       norfolk / hampton roads     https://norfolk.craigslist.org   1129   \n",
       "3                       phoenix     https://phoenix.craigslist.org   1580   \n",
       "4                     nashville   https://nashville.craigslist.org    995   \n",
       "...                         ...                                ...    ...   \n",
       "346474               evansville  https://evansville.craigslist.org    672   \n",
       "346475                san diego    https://sandiego.craigslist.org   2122   \n",
       "346476                 columbia    https://columbia.craigslist.org   1014   \n",
       "346477             north dakota          https://nd.craigslist.org    935   \n",
       "346478                  buffalo     https://buffalo.craigslist.org   1300   \n",
       "\n",
       "             type  sqfeet  beds  baths  cats_allowed  ...  wheelchair_access  \\\n",
       "0           house    1200     2    2.0             1  ...                  0   \n",
       "1       apartment     694     1    1.0             1  ...                  0   \n",
       "2       apartment     900     2    2.0             0  ...                  0   \n",
       "3           house    1469     3    2.0             1  ...                  0   \n",
       "4       apartment     700     1    1.0             1  ...                  0   \n",
       "...           ...     ...   ...    ...           ...  ...                ...   \n",
       "346474  apartment     660     1    1.0             1  ...                  0   \n",
       "346475  apartment    1099     2    2.0             1  ...                  0   \n",
       "346476  apartment    1104     2    2.0             1  ...                  0   \n",
       "346477  apartment    1050     2    2.0             0  ...                  0   \n",
       "346478  apartment    1350     2    2.0             1  ...                  0   \n",
       "\n",
       "        electric_vehicle_charge  comes_furnished  laundry_options  \\\n",
       "0                             0                0      w/d in unit   \n",
       "1                             0                0      w/d in unit   \n",
       "2                             0                0      w/d hookups   \n",
       "3                             0                0      w/d in unit   \n",
       "4                             0                0      w/d in unit   \n",
       "...                         ...              ...              ...   \n",
       "346474                        0                0  laundry on site   \n",
       "346475                        0                0      w/d in unit   \n",
       "346476                        0                0      w/d hookups   \n",
       "346477                        0                0      w/d in unit   \n",
       "346478                        0                0      w/d in unit   \n",
       "\n",
       "           parking_options                                          image_url  \\\n",
       "0          detached garage  https://images.craigslist.org/00B0B_cPiJMEheZe...   \n",
       "1                  carport  https://images.craigslist.org/00R0R_5XAoSKvfrz...   \n",
       "2       off-street parking  https://images.craigslist.org/00f0f_3ZbTFrsHpZ...   \n",
       "3                     None  https://images.craigslist.org/00f0f_aXV5Dkd5qk...   \n",
       "4                  carport  https://images.craigslist.org/00606_gYOGKClOHv...   \n",
       "...                    ...                                                ...   \n",
       "346474                None  https://images.craigslist.org/00x0x_9oaHKZ8Ilp...   \n",
       "346475  off-street parking  https://images.craigslist.org/00O0O_6QsU4p5WMh...   \n",
       "346476  off-street parking  https://images.craigslist.org/00000_dpNWqzYhGK...   \n",
       "346477     detached garage  https://images.craigslist.org/00Z0Z_65g6Cty1RX...   \n",
       "346478  off-street parking  https://images.craigslist.org/00w0w_7irvBxq409...   \n",
       "\n",
       "                                              description      lat      long  \\\n",
       "0       Super cute row house in the Boise bench area. ...  43.5851 -116.2250   \n",
       "1       Windtree Apartment Homes currently has a spaci...  38.9137 -104.7800   \n",
       "2       Call Today!  show contact info   Indian Lakes ...  36.7922  -76.1643   \n",
       "3       Cody Anderson Two Brothers Realty License #: S...  33.5623 -112.0560   \n",
       "4       To schedule a tour We now book our tour appoin...  36.0595  -86.6592   \n",
       "...                                                   ...      ...       ...   \n",
       "346474  The pool, the office, the 24-hour on-site laun...  37.9591  -87.5293   \n",
       "346475  Seize your chance to live in our beautiful apa...  32.6279 -117.0370   \n",
       "346476  Tucked into the rolling landscape of Southeast...  33.9659  -80.9355   \n",
       "346477  Enjoy living at Southwood Apartments! Located ...  48.1995 -101.2800   \n",
       "346478  Description   Huge spacious 2 bedroom.  Beauti...  42.8997  -78.8803   \n",
       "\n",
       "        state  \n",
       "0          id  \n",
       "1          co  \n",
       "2          va  \n",
       "3          az  \n",
       "4          tn  \n",
       "...       ...  \n",
       "346474     in  \n",
       "346475     ca  \n",
       "346476     sc  \n",
       "346477     nd  \n",
       "346478     ny  \n",
       "\n",
       "[346479 rows x 22 columns]"
      ]
     },
     "execution_count": 6,
     "metadata": {},
     "output_type": "execute_result"
    }
   ],
   "source": [
    "dftrain"
   ]
  },
  {
   "attachments": {},
   "cell_type": "markdown",
   "metadata": {},
   "source": [
    "EXTRACCIÓN DE COLUMNAS IMPORTANTES\n",
    "- Columna 'price' como etiqueta\n",
    "- NO se tomarán en cuenta Columnas con respecto a una indexacion, código o ordenanza interna al estudio\n",
    "- NO se extrae la información a aquellos valores que no sean contables/medibles\n",
    "- Se excluirán columnas con poca correlación y que no poseen independencia lineal con la columna price"
   ]
  },
  {
   "attachments": {},
   "cell_type": "markdown",
   "metadata": {},
   "source": [
    "Columnas Principales \n",
    "- sqfeet: Metros cuadrados de la propiedad.\n",
    "- beds: Cantidad de dormitorios.\n",
    "- baths: Cantidad de baños.\n",
    "- comes_furnished: Si la propiedad viene amueblada toma el valor 1, 0 para caso contrario.\n",
    "- price: Precio de la propiedad en petrodólares."
   ]
  },
  {
   "cell_type": "code",
   "execution_count": 7,
   "metadata": {},
   "outputs": [],
   "source": [
    "dftrain1 = dftrain[['sqfeet','beds','baths','comes_furnished','price']].apply(lambda x: x.astype(int, errors='ignore').where(x.notnull(), 0))"
   ]
  },
  {
   "attachments": {},
   "cell_type": "markdown",
   "metadata": {},
   "source": [
    "Designamos una nueva variable en la cual sea el mismo dataframe y solo estén las columnas principales(sean enteros) "
   ]
  },
  {
   "attachments": {},
   "cell_type": "markdown",
   "metadata": {},
   "source": [
    "- Analisis de la Columna 'sqfeet' "
   ]
  },
  {
   "cell_type": "code",
   "execution_count": 8,
   "metadata": {},
   "outputs": [
    {
     "name": "stdout",
     "output_type": "stream",
     "text": [
      "Datos únicos = [1200  694  900 ... 5416 3423 3516]\n",
      "Cantidad de elemetos únicos = 3193\n",
      "Media = 1066.3259100840166\n",
      "Varianza = 407449297.4053155\n",
      "Desviación estandar = 20185.373353131607\n",
      "Valor máximo = 8388607\n",
      "tipo = 249237    apartment\n",
      "Name: type, dtype: object\n",
      "Valor mínimo = 0\n"
     ]
    }
   ],
   "source": [
    "print('Datos únicos = ' + str(dftrain1['sqfeet'].unique()))\n",
    "print('Cantidad de elemetos únicos = ' + str(len(dftrain1['sqfeet'].unique())))\n",
    "print('Media = ' + str(dftrain1['sqfeet'].mean()))\n",
    "print('Varianza = ' + str(dftrain1['sqfeet'].var()))\n",
    "print('Desviación estandar = ' + str(dftrain1['sqfeet'].std()))\n",
    "print('Valor máximo = ' + str(dftrain1['sqfeet'].max()))\n",
    "print('tipo = ' + str(dftrain.loc[dftrain['sqfeet'] == dftrain['sqfeet'].max(), 'type']))\n",
    "print('Valor mínimo = ' + str(dftrain1['sqfeet'].min()))\n"
   ]
  },
  {
   "attachments": {},
   "cell_type": "markdown",
   "metadata": {},
   "source": [
    "Al ver los paramétros podemos notar que su varianza es mayor que su media lo cual puede significar la presencia de outliers, pero al ver su máximo es de 95mil metros cuadrados lo cual puede ser posible una propiedad de esas dimensiones pero al ver el tipo de la vivienda nos damos cuenta que es un apartamento lo cual es imposible."
   ]
  },
  {
   "cell_type": "code",
   "execution_count": 9,
   "metadata": {},
   "outputs": [
    {
     "name": "stdout",
     "output_type": "stream",
     "text": [
      "Valor máximo = 14000\n",
      "Media = 994.9758080576312\n",
      "Desviación estandar = 414.1198705908561\n"
     ]
    }
   ],
   "source": [
    "while dftrain1['sqfeet'].max() > 10*(dftrain1['sqfeet'].mean() + dftrain1['sqfeet'].std()): #Aplicar esta modificacion hasta que el maximo no sea 10 veces más que la suma de la media y la desviación estandar \n",
    "    dftrain1 = dftrain1.replace(dftrain1['sqfeet'].max() , int(dftrain1['sqfeet'].mean())) #Cambiamos el valor del outlier a la media para que no se desvíe la curva y sea más óptima la predicción\n",
    "\n",
    "print('Valor máximo = ' + str(dftrain1['sqfeet'].max()))\n",
    "print('Media = ' + str(dftrain1['sqfeet'].mean()))\n",
    "print('Desviación estandar = ' + str(dftrain1['sqfeet'].std()))"
   ]
  },
  {
   "attachments": {},
   "cell_type": "markdown",
   "metadata": {},
   "source": [
    "Podemos notar mediante esta transformación los cambios favorables en los parametros"
   ]
  },
  {
   "attachments": {},
   "cell_type": "markdown",
   "metadata": {},
   "source": [
    "- Analisis de la Columna 'beds' "
   ]
  },
  {
   "cell_type": "code",
   "execution_count": 10,
   "metadata": {},
   "outputs": [
    {
     "name": "stdout",
     "output_type": "stream",
     "text": [
      "Datos únicos = [   2    1    3    5    4    0    6    8    7 1000 1100]\n",
      "Cantidad de elemetos únicos = [   2    1    3    5    4    0    6    8    7 1000 1100]\n",
      "Media = 1.9031889378577056\n",
      "Varianza = 10.002573515613\n",
      "Desviación estandar = 3.1626845425386643\n",
      "Valor máximo = 1100\n",
      "tipo = 316209    apartment\n",
      "Name: type, dtype: object\n",
      "Valor mínimo = 0\n"
     ]
    }
   ],
   "source": [
    "print('Datos únicos = ' + str(dftrain1['beds'].unique()))\n",
    "print('Cantidad de elemetos únicos = ' + str(dftrain1['beds'].unique()))\n",
    "print('Media = ' + str(dftrain1['beds'].mean()))\n",
    "print('Varianza = ' + str(dftrain1['beds'].var()))\n",
    "print('Desviación estandar = ' + str(dftrain1['beds'].std()))\n",
    "print('Valor máximo = ' + str(dftrain1['beds'].max()))\n",
    "print('tipo = ' + str(dftrain.loc[dftrain['beds'] == dftrain['beds'].max(), 'type']))\n",
    "print('Valor mínimo = ' + str(dftrain1['beds'].min()))"
   ]
  },
  {
   "attachments": {},
   "cell_type": "markdown",
   "metadata": {},
   "source": [
    "Al ver los parámetros podemos notar a simple vista de la presencia de un outlier en el cual presume que hay 1100 camas en un apartamento."
   ]
  },
  {
   "cell_type": "code",
   "execution_count": 11,
   "metadata": {},
   "outputs": [
    {
     "name": "stdout",
     "output_type": "stream",
     "text": [
      "Valor máximo = 8\n",
      "Media = 1.8942504451929265\n",
      "Desviación estandar = 0.8785602767695696\n"
     ]
    }
   ],
   "source": [
    "while dftrain1['beds'].max() > 10*(dftrain1['beds'].mean() + dftrain1['beds'].std()): #Aplicar esta modificacion hasta que el maximo no sea 10 veces más que la suma de la media y la desviación estandar \n",
    "    dftrain1 = dftrain1.replace(dftrain1['beds'].max() , int(dftrain1['beds'].mean())) #Cambiamos el valor del outlier a la media para que no se desvíe la curva y sea más óptima la predicción\n",
    "\n",
    "print('Valor máximo = ' + str(dftrain1['beds'].max()))\n",
    "print('Media = ' + str(dftrain1['beds'].mean()))\n",
    "print('Desviación estandar = ' + str(dftrain1['beds'].std()))"
   ]
  },
  {
   "attachments": {},
   "cell_type": "markdown",
   "metadata": {},
   "source": [
    "Con el codigo usado eliminamos el outlier antes mencionados, es decir transforma los valores que sobrepasan 10 veces la suma de la media y su desviación."
   ]
  },
  {
   "attachments": {},
   "cell_type": "markdown",
   "metadata": {},
   "source": [
    "- Analisis de la columna 'baths'"
   ]
  },
  {
   "cell_type": "code",
   "execution_count": 12,
   "metadata": {},
   "outputs": [
    {
     "name": "stdout",
     "output_type": "stream",
     "text": [
      "Datos únicos = [ 2  1  0  3  4  5  6  7 25 35  8 75]\n",
      "Cantidad de elemetos únicos = [ 2  1  0  3  4  5  6  7 25 35  8 75]\n",
      "Media = 1.4262076489484212\n",
      "Varianza = 0.35018980733116895\n",
      "Desviación estandar = 0.5917683730406424\n",
      "Valor máximo = 75\n",
      "tipo = 316209    apartment\n",
      "Name: type, dtype: object\n",
      "Valor mínimo = 0\n"
     ]
    }
   ],
   "source": [
    "print('Datos únicos = ' + str(dftrain1['baths'].unique()))\n",
    "print('Cantidad de elemetos únicos = ' + str(dftrain1['baths'].unique()))\n",
    "print('Media = ' + str(dftrain1['baths'].mean()))\n",
    "print('Varianza = ' + str(dftrain1['baths'].var()))\n",
    "print('Desviación estandar = ' + str(dftrain1['baths'].std()))\n",
    "print('Valor máximo = ' + str(dftrain1['baths'].max()))\n",
    "print('tipo = ' + str(dftrain.loc[dftrain['baths'] == dftrain['baths'].max(), 'type']))\n",
    "print('Valor mínimo = ' + str(dftrain1['baths'].min()))"
   ]
  },
  {
   "attachments": {},
   "cell_type": "markdown",
   "metadata": {},
   "source": [
    "Podemos notar la presencia a simple vista de un outlier lo cual presume 75 baños en un departamento."
   ]
  },
  {
   "cell_type": "code",
   "execution_count": 13,
   "metadata": {},
   "outputs": [
    {
     "name": "stdout",
     "output_type": "stream",
     "text": [
      "Valor máximo = 8\n",
      "Media = 1.4258266734780463\n",
      "Desviación estandar = 0.5742044781931906\n"
     ]
    }
   ],
   "source": [
    "while dftrain1['baths'].max() > 10*(dftrain1['baths'].mean() + dftrain1['baths'].std()): #Aplicar esta modificacion hasta que el maximo no sea 10 veces más que la suma de la media y la desviación estandar \n",
    "    dftrain1 = dftrain1.replace(dftrain1['baths'].max() , int(dftrain1['baths'].mean())) #Cambiamos el valor del outlier a la media para que no se desvíe la curva y sea más óptima la predicción\n",
    "\n",
    "print('Valor máximo = ' + str(dftrain1['baths'].max()))\n",
    "print('Media = ' + str(dftrain1['baths'].mean()))\n",
    "print('Desviación estandar = ' + str(dftrain1['baths'].std()))"
   ]
  },
  {
   "attachments": {},
   "cell_type": "markdown",
   "metadata": {},
   "source": [
    "Con el mismo código se solucionó el tema del outlier.(En casos de valores únicos discretos y contables podríamos eliminar/transformar buscando esa linea, pero no automatizariamos el proceso ante un futuro cambio en el dataframe) En este caso el mismo criterio fue óptimo para esta tarea."
   ]
  },
  {
   "attachments": {},
   "cell_type": "markdown",
   "metadata": {},
   "source": [
    "- Analisis de la columna 'comes_furnished'"
   ]
  },
  {
   "cell_type": "code",
   "execution_count": 14,
   "metadata": {},
   "outputs": [
    {
     "data": {
      "text/plain": [
       "array([0, 1])"
      ]
     },
     "execution_count": 14,
     "metadata": {},
     "output_type": "execute_result"
    }
   ],
   "source": [
    "dftrain1['comes_furnished'].unique()"
   ]
  },
  {
   "attachments": {},
   "cell_type": "markdown",
   "metadata": {},
   "source": [
    "Como podemos notar los valores son binarios la cual no es necesario transformarlos."
   ]
  },
  {
   "attachments": {},
   "cell_type": "markdown",
   "metadata": {},
   "source": [
    "- Analisis de la columna 'price'"
   ]
  },
  {
   "cell_type": "code",
   "execution_count": 15,
   "metadata": {},
   "outputs": [
    {
     "name": "stdout",
     "output_type": "stream",
     "text": [
      "Datos únicos = [1350 1115 1129 ... 4756 3221 5015]\n",
      "Cantidad de elemetos únicos = [1350 1115 1129 ... 4756 3221 5015]\n",
      "Media = 9647.14643311716\n",
      "Varianza = 22123600007905.51\n",
      "Desviación estandar = 4703573.110721839\n",
      "Valor máximo = 2768307249\n",
      "tipo = 106214    apartment\n",
      "Name: type, dtype: object\n",
      "Valor mínimo = 0\n"
     ]
    }
   ],
   "source": [
    "print('Datos únicos = ' + str(dftrain1['price'].unique()))\n",
    "print('Cantidad de elemetos únicos = ' + str(dftrain1['price'].unique()))\n",
    "print('Media = ' + str(dftrain1['price'].mean()))\n",
    "print('Varianza = ' + str(dftrain1['price'].var()))\n",
    "print('Desviación estandar = ' + str(dftrain1['price'].std()))\n",
    "print('Valor máximo = ' + str(dftrain1['price'].max()))\n",
    "print('tipo = ' + str(dftrain.loc[dftrain['price'] == dftrain['price'].max(), 'type']))\n",
    "print('Valor mínimo = ' + str(dftrain1['price'].min()))"
   ]
  },
  {
   "attachments": {},
   "cell_type": "markdown",
   "metadata": {},
   "source": [
    "Al estar todo en una misma moneda(Dólares) no hay que hacer cambio alguno sobre su modulo. También por otro lado se registra un outlier de 2768307249 de dólares por un departamento. Lo cual volveremos a usar el mismo criterio."
   ]
  },
  {
   "cell_type": "code",
   "execution_count": 16,
   "metadata": {},
   "outputs": [
    {
     "name": "stdout",
     "output_type": "stream",
     "text": [
      "Valor máximo = 18010\n",
      "Media = 1166.250930070798\n",
      "Desviación estandar = 643.1641337014569\n"
     ]
    }
   ],
   "source": [
    "while dftrain1['price'].max() > 10*(dftrain1['price'].mean() + dftrain1['price'].std()): #Aplicar esta modificacion hasta que el maximo no sea 10 veces más que la suma de la media y la desviación estandar \n",
    "    dftrain1 = dftrain1.replace(dftrain1['price'].max() , int(dftrain1['price'].mean())) #Cambiamos el valor del outlier a la media para que no se desvíe la curva y sea más óptima la predicción\n",
    "\n",
    "print('Valor máximo = ' + str(dftrain1['price'].max()))\n",
    "print('Media = ' + str(dftrain1['price'].mean()))\n",
    "print('Desviación estandar = ' + str(dftrain1['price'].std()))"
   ]
  },
  {
   "attachments": {},
   "cell_type": "markdown",
   "metadata": {},
   "source": [
    "CREAMOS NUEVAS COLUMNAS\n",
    "- category_price: En la cual tiene que cumplir:\n",
    "    - 'low': Para precios entre 0 y 999 dólares.\n",
    "    - 'medium': Para precios entre 1000 y 1999 dólares.\n",
    "    - 'high': Para precios desde 2000 dólares en adelante.\n",
    "- target = '1' para valores 'low'  y '0' para los demás."
   ]
  },
  {
   "cell_type": "code",
   "execution_count": 17,
   "metadata": {},
   "outputs": [],
   "source": [
    "dftrain1['category_price'] = dftrain1.apply(lambda row: 'low' if row[\"price\"] > 2000 else ('medium' if (row[\"price\"] > 1000 and row[\"price\"] < 1999) else 'low'), axis=1)"
   ]
  },
  {
   "cell_type": "code",
   "execution_count": 18,
   "metadata": {},
   "outputs": [],
   "source": [
    "dftrain1['target'] = dftrain1.apply(lambda row: 1 if row[\"category_price\"] == 'low' else 0, axis=1)"
   ]
  },
  {
   "attachments": {},
   "cell_type": "markdown",
   "metadata": {},
   "source": [
    "- PREDICCIÓN SUPERVISADA"
   ]
  },
  {
   "cell_type": "code",
   "execution_count": 22,
   "metadata": {},
   "outputs": [],
   "source": [
    "X = dftrain1[['sqfeet','beds','baths','comes_furnished']]\n",
    "y = dftrain1['target']"
   ]
  },
  {
   "cell_type": "code",
   "execution_count": 20,
   "metadata": {},
   "outputs": [],
   "source": [
    "#Importamos el separador\n",
    "from sklearn.model_selection import train_test_split"
   ]
  },
  {
   "cell_type": "code",
   "execution_count": 23,
   "metadata": {},
   "outputs": [],
   "source": [
    "#Separamos el %30 de los datos para el test y lo restante lo entrenamos\n",
    "X_train, X_test, y_train, y_test = train_test_split(X, y, test_size=0.30, random_state=0)"
   ]
  },
  {
   "cell_type": "code",
   "execution_count": 24,
   "metadata": {},
   "outputs": [],
   "source": [
    "from sklearn.tree import DecisionTreeClassifier\n",
    "\n",
    "# Instanciamos un objeto de la clase DecisionTreeClassifier\n",
    "\n",
    "Arbol = DecisionTreeClassifier(max_depth = 4, random_state = 0)"
   ]
  },
  {
   "cell_type": "code",
   "execution_count": 25,
   "metadata": {},
   "outputs": [
    {
     "data": {
      "text/html": [
       "<style>#sk-container-id-1 {color: black;background-color: white;}#sk-container-id-1 pre{padding: 0;}#sk-container-id-1 div.sk-toggleable {background-color: white;}#sk-container-id-1 label.sk-toggleable__label {cursor: pointer;display: block;width: 100%;margin-bottom: 0;padding: 0.3em;box-sizing: border-box;text-align: center;}#sk-container-id-1 label.sk-toggleable__label-arrow:before {content: \"▸\";float: left;margin-right: 0.25em;color: #696969;}#sk-container-id-1 label.sk-toggleable__label-arrow:hover:before {color: black;}#sk-container-id-1 div.sk-estimator:hover label.sk-toggleable__label-arrow:before {color: black;}#sk-container-id-1 div.sk-toggleable__content {max-height: 0;max-width: 0;overflow: hidden;text-align: left;background-color: #f0f8ff;}#sk-container-id-1 div.sk-toggleable__content pre {margin: 0.2em;color: black;border-radius: 0.25em;background-color: #f0f8ff;}#sk-container-id-1 input.sk-toggleable__control:checked~div.sk-toggleable__content {max-height: 200px;max-width: 100%;overflow: auto;}#sk-container-id-1 input.sk-toggleable__control:checked~label.sk-toggleable__label-arrow:before {content: \"▾\";}#sk-container-id-1 div.sk-estimator input.sk-toggleable__control:checked~label.sk-toggleable__label {background-color: #d4ebff;}#sk-container-id-1 div.sk-label input.sk-toggleable__control:checked~label.sk-toggleable__label {background-color: #d4ebff;}#sk-container-id-1 input.sk-hidden--visually {border: 0;clip: rect(1px 1px 1px 1px);clip: rect(1px, 1px, 1px, 1px);height: 1px;margin: -1px;overflow: hidden;padding: 0;position: absolute;width: 1px;}#sk-container-id-1 div.sk-estimator {font-family: monospace;background-color: #f0f8ff;border: 1px dotted black;border-radius: 0.25em;box-sizing: border-box;margin-bottom: 0.5em;}#sk-container-id-1 div.sk-estimator:hover {background-color: #d4ebff;}#sk-container-id-1 div.sk-parallel-item::after {content: \"\";width: 100%;border-bottom: 1px solid gray;flex-grow: 1;}#sk-container-id-1 div.sk-label:hover label.sk-toggleable__label {background-color: #d4ebff;}#sk-container-id-1 div.sk-serial::before {content: \"\";position: absolute;border-left: 1px solid gray;box-sizing: border-box;top: 0;bottom: 0;left: 50%;z-index: 0;}#sk-container-id-1 div.sk-serial {display: flex;flex-direction: column;align-items: center;background-color: white;padding-right: 0.2em;padding-left: 0.2em;position: relative;}#sk-container-id-1 div.sk-item {position: relative;z-index: 1;}#sk-container-id-1 div.sk-parallel {display: flex;align-items: stretch;justify-content: center;background-color: white;position: relative;}#sk-container-id-1 div.sk-item::before, #sk-container-id-1 div.sk-parallel-item::before {content: \"\";position: absolute;border-left: 1px solid gray;box-sizing: border-box;top: 0;bottom: 0;left: 50%;z-index: -1;}#sk-container-id-1 div.sk-parallel-item {display: flex;flex-direction: column;z-index: 1;position: relative;background-color: white;}#sk-container-id-1 div.sk-parallel-item:first-child::after {align-self: flex-end;width: 50%;}#sk-container-id-1 div.sk-parallel-item:last-child::after {align-self: flex-start;width: 50%;}#sk-container-id-1 div.sk-parallel-item:only-child::after {width: 0;}#sk-container-id-1 div.sk-dashed-wrapped {border: 1px dashed gray;margin: 0 0.4em 0.5em 0.4em;box-sizing: border-box;padding-bottom: 0.4em;background-color: white;}#sk-container-id-1 div.sk-label label {font-family: monospace;font-weight: bold;display: inline-block;line-height: 1.2em;}#sk-container-id-1 div.sk-label-container {text-align: center;}#sk-container-id-1 div.sk-container {/* jupyter's `normalize.less` sets `[hidden] { display: none; }` but bootstrap.min.css set `[hidden] { display: none !important; }` so we also need the `!important` here to be able to override the default hidden behavior on the sphinx rendered scikit-learn.org. See: https://github.com/scikit-learn/scikit-learn/issues/21755 */display: inline-block !important;position: relative;}#sk-container-id-1 div.sk-text-repr-fallback {display: none;}</style><div id=\"sk-container-id-1\" class=\"sk-top-container\"><div class=\"sk-text-repr-fallback\"><pre>DecisionTreeClassifier(max_depth=4, random_state=0)</pre><b>In a Jupyter environment, please rerun this cell to show the HTML representation or trust the notebook. <br />On GitHub, the HTML representation is unable to render, please try loading this page with nbviewer.org.</b></div><div class=\"sk-container\" hidden><div class=\"sk-item\"><div class=\"sk-estimator sk-toggleable\"><input class=\"sk-toggleable__control sk-hidden--visually\" id=\"sk-estimator-id-1\" type=\"checkbox\" checked><label for=\"sk-estimator-id-1\" class=\"sk-toggleable__label sk-toggleable__label-arrow\">DecisionTreeClassifier</label><div class=\"sk-toggleable__content\"><pre>DecisionTreeClassifier(max_depth=4, random_state=0)</pre></div></div></div></div></div>"
      ],
      "text/plain": [
       "DecisionTreeClassifier(max_depth=4, random_state=0)"
      ]
     },
     "execution_count": 25,
     "metadata": {},
     "output_type": "execute_result"
    }
   ],
   "source": [
    "# Entrenamos el modelo\n",
    "\n",
    "Arbol.fit(X_train.values,y_train.values)"
   ]
  },
  {
   "cell_type": "code",
   "execution_count": 26,
   "metadata": {},
   "outputs": [],
   "source": [
    "# Predecimos los atributos apartados para el testeo\n",
    "\n",
    "y_pred = Arbol.predict(X_test.values)"
   ]
  },
  {
   "cell_type": "code",
   "execution_count": 27,
   "metadata": {},
   "outputs": [
    {
     "name": "stdout",
     "output_type": "stream",
     "text": [
      "0.6305895482182714 0.6438242156731613\n"
     ]
    }
   ],
   "source": [
    "from sklearn.metrics import accuracy_score , recall_score\n",
    "\n",
    "Accuracy = accuracy_score(y_pred,y_test)\n",
    "Recall = recall_score(y_pred,y_test)\n",
    "\n",
    "print(Accuracy , Recall)"
   ]
  },
  {
   "cell_type": "code",
   "execution_count": 28,
   "metadata": {},
   "outputs": [],
   "source": [
    "#Aplicamos las mismas transformaciones al Dataframe de Test \n",
    "datatest = dftest[['sqfeet','beds','baths','comes_furnished']].apply(lambda x: x.astype(int, errors='ignore').where(x.notnull(), 0))"
   ]
  },
  {
   "cell_type": "code",
   "execution_count": 29,
   "metadata": {},
   "outputs": [],
   "source": [
    "#Columna beds\n",
    "while datatest['beds'].max() > 10*(datatest['beds'].mean() + datatest['beds'].std()): #Aplicar esta modificacion hasta que el maximo no sea 10 veces más que la suma de la media y la desviación estandar \n",
    "    datatest = datatest.replace(datatest['beds'].max() , int(datatest['beds'].mean())) #Cambiamos el valor del outlier a la media para que no se desvíe la curva y sea más óptima la predicción\n"
   ]
  },
  {
   "cell_type": "code",
   "execution_count": 30,
   "metadata": {},
   "outputs": [],
   "source": [
    "#Columna baths\n",
    "while datatest['baths'].max() > 10*(datatest['baths'].mean() + datatest['baths'].std()): #Aplicar esta modificacion hasta que el maximo no sea 10 veces más que la suma de la media y la desviación estandar \n",
    "    datatest = datatest.replace(datatest['baths'].max() , int(datatest['baths'].mean())) #Cambiamos el valor del outlier a la media para que no se desvíe la curva y sea más óptima la predicción\n"
   ]
  },
  {
   "cell_type": "code",
   "execution_count": 31,
   "metadata": {},
   "outputs": [],
   "source": [
    "#Columna sqfeet\n",
    "while datatest['sqfeet'].max() > 10*(datatest['sqfeet'].mean() + datatest['sqfeet'].std()): #Aplicar esta modificacion hasta que el maximo no sea 10 veces más que la suma de la media y la desviación estandar \n",
    "    datatest = datatest.replace(datatest['sqfeet'].max() , int(datatest['sqfeet'].mean())) #Cambiamos el valor del outlier a la media para que no se desvíe la curva y sea más óptima la predicción\n"
   ]
  },
  {
   "cell_type": "code",
   "execution_count": 32,
   "metadata": {},
   "outputs": [],
   "source": [
    "XTest = datatest[['sqfeet','baths','beds','comes_furnished']]"
   ]
  },
  {
   "cell_type": "code",
   "execution_count": 33,
   "metadata": {},
   "outputs": [
    {
     "name": "stderr",
     "output_type": "stream",
     "text": [
      "/home/justo99/.local/lib/python3.8/site-packages/sklearn/base.py:443: UserWarning: X has feature names, but DecisionTreeClassifier was fitted without feature names\n",
      "  warnings.warn(\n"
     ]
    }
   ],
   "source": [
    "#Predecimos usando los valores nuevos de los atributos y el objeto anteriormente creado 'Arbol'\n",
    "Pred = Arbol.predict(XTest) "
   ]
  },
  {
   "cell_type": "code",
   "execution_count": 34,
   "metadata": {},
   "outputs": [],
   "source": [
    "pred = pd.DataFrame(Pred)"
   ]
  },
  {
   "cell_type": "code",
   "execution_count": 35,
   "metadata": {},
   "outputs": [],
   "source": [
    "pred.to_csv('JustoCosta.csv' , sep = ',', index = False)"
   ]
  }
 ],
 "metadata": {
  "kernelspec": {
   "display_name": "Python 3",
   "language": "python",
   "name": "python3"
  },
  "language_info": {
   "codemirror_mode": {
    "name": "ipython",
    "version": 3
   },
   "file_extension": ".py",
   "mimetype": "text/x-python",
   "name": "python",
   "nbconvert_exporter": "python",
   "pygments_lexer": "ipython3",
   "version": "3.8.10"
  },
  "orig_nbformat": 4,
  "vscode": {
   "interpreter": {
    "hash": "916dbcbb3f70747c44a77c7bcd40155683ae19c65e1c03b4aa3499c5328201f1"
   }
  }
 },
 "nbformat": 4,
 "nbformat_minor": 2
}
